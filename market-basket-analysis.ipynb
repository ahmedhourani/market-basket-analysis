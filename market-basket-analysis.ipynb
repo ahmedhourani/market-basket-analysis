{
 "cells": [
  {
   "cell_type": "markdown",
   "id": "ae8caff9",
   "metadata": {},
   "source": [
    "### imports"
   ]
  },
  {
   "cell_type": "code",
   "execution_count": 1,
   "id": "819618ea",
   "metadata": {},
   "outputs": [],
   "source": [
    "import numpy as np\n",
    "import pandas as pd\n",
    "import matplotlib.pyplot as plt\n",
    "from collections import defaultdict\n",
    "import time\n",
    "from sys import getsizeof"
   ]
  },
  {
   "cell_type": "markdown",
   "id": "66473fae",
   "metadata": {},
   "source": [
    "### objectives:\n",
    "1. get frequent pairs & triples\n",
    "2. calculate support, confidence, lift\n",
    "3. calculate based on the ECLAT algorithm"
   ]
  },
  {
   "cell_type": "code",
   "execution_count": 2,
   "id": "e135024b",
   "metadata": {},
   "outputs": [
    {
     "data": {
      "text/html": [
       "<div>\n",
       "<style scoped>\n",
       "    .dataframe tbody tr th:only-of-type {\n",
       "        vertical-align: middle;\n",
       "    }\n",
       "\n",
       "    .dataframe tbody tr th {\n",
       "        vertical-align: top;\n",
       "    }\n",
       "\n",
       "    .dataframe thead th {\n",
       "        text-align: right;\n",
       "    }\n",
       "</style>\n",
       "<table border=\"1\" class=\"dataframe\">\n",
       "  <thead>\n",
       "    <tr style=\"text-align: right;\">\n",
       "      <th></th>\n",
       "      <th>order_id</th>\n",
       "      <th>product_id</th>\n",
       "    </tr>\n",
       "  </thead>\n",
       "  <tbody>\n",
       "    <tr>\n",
       "      <th>0</th>\n",
       "      <td>2</td>\n",
       "      <td>33120</td>\n",
       "    </tr>\n",
       "    <tr>\n",
       "      <th>1</th>\n",
       "      <td>2</td>\n",
       "      <td>28985</td>\n",
       "    </tr>\n",
       "    <tr>\n",
       "      <th>2</th>\n",
       "      <td>2</td>\n",
       "      <td>9327</td>\n",
       "    </tr>\n",
       "    <tr>\n",
       "      <th>3</th>\n",
       "      <td>2</td>\n",
       "      <td>45918</td>\n",
       "    </tr>\n",
       "    <tr>\n",
       "      <th>4</th>\n",
       "      <td>2</td>\n",
       "      <td>30035</td>\n",
       "    </tr>\n",
       "  </tbody>\n",
       "</table>\n",
       "</div>"
      ],
      "text/plain": [
       "   order_id  product_id\n",
       "0         2       33120\n",
       "1         2       28985\n",
       "2         2        9327\n",
       "3         2       45918\n",
       "4         2       30035"
      ]
     },
     "execution_count": 2,
     "metadata": {},
     "output_type": "execute_result"
    }
   ],
   "source": [
    "# read the order_id, product_id table\n",
    "op = pd.read_csv('order_products_mini.csv')\n",
    "\n",
    "op.head()"
   ]
  },
  {
   "cell_type": "markdown",
   "id": "76e7d918",
   "metadata": {},
   "source": [
    "### these are thresholds we need to set from now which will be useful later in the code. For example, when calculating pairs of items commonly sold together, we will not include any pair with an item found less than 500 times"
   ]
  },
  {
   "cell_type": "code",
   "execution_count": 3,
   "id": "7298ccb2",
   "metadata": {},
   "outputs": [],
   "source": [
    "single_threshold = 500\n",
    "double_threshold = 200\n",
    "triple_threshold = 100"
   ]
  },
  {
   "cell_type": "markdown",
   "id": "ac098c70",
   "metadata": {},
   "source": [
    "create a dictionary to store the product id's in each order"
   ]
  },
  {
   "cell_type": "code",
   "execution_count": 4,
   "id": "125dbd1a",
   "metadata": {},
   "outputs": [],
   "source": [
    "orders = defaultdict(list)\n",
    "\n",
    "for idx,i in enumerate(op.values):\n",
    "    orders[i[0]] += [i[1]]"
   ]
  },
  {
   "cell_type": "code",
   "execution_count": 5,
   "id": "d2157642",
   "metadata": {},
   "outputs": [
    {
     "name": "stdout",
     "output_type": "stream",
     "text": [
      "products ordered in order_id=2\n",
      "[33120, 28985, 9327, 45918, 30035, 17794, 40141, 1819, 43668]\n"
     ]
    }
   ],
   "source": [
    "print('products ordered in order_id=2')\n",
    "print(orders[2])"
   ]
  },
  {
   "cell_type": "markdown",
   "id": "b2f8f3fe",
   "metadata": {},
   "source": [
    "----------------------------------------\n",
    "create a dictionary to store the order counts of each product"
   ]
  },
  {
   "cell_type": "code",
   "execution_count": 6,
   "id": "0581c2c8",
   "metadata": {},
   "outputs": [],
   "source": [
    "single_counts = defaultdict(int)\n",
    "for _,order in orders.items():\n",
    "    for i in range(len(order)):\n",
    "        single_counts[order[i]] += 1"
   ]
  },
  {
   "cell_type": "code",
   "execution_count": 7,
   "id": "df3a0fb1",
   "metadata": {},
   "outputs": [
    {
     "name": "stdout",
     "output_type": "stream",
     "text": [
      "number of times product_id=28985 has been ordered\n",
      "400\n"
     ]
    }
   ],
   "source": [
    "print('number of times product_id=28985 has been ordered')\n",
    "print(single_counts[28985])"
   ]
  },
  {
   "cell_type": "markdown",
   "id": "c384d54a",
   "metadata": {},
   "source": [
    "### display products with top sales"
   ]
  },
  {
   "cell_type": "code",
   "execution_count": 8,
   "id": "496cbfe4",
   "metadata": {},
   "outputs": [
    {
     "data": {
      "text/html": [
       "<div>\n",
       "<style scoped>\n",
       "    .dataframe tbody tr th:only-of-type {\n",
       "        vertical-align: middle;\n",
       "    }\n",
       "\n",
       "    .dataframe tbody tr th {\n",
       "        vertical-align: top;\n",
       "    }\n",
       "\n",
       "    .dataframe thead th {\n",
       "        text-align: right;\n",
       "    }\n",
       "</style>\n",
       "<table border=\"1\" class=\"dataframe\">\n",
       "  <thead>\n",
       "    <tr style=\"text-align: right;\">\n",
       "      <th></th>\n",
       "      <th>product_id</th>\n",
       "      <th>sales</th>\n",
       "    </tr>\n",
       "  </thead>\n",
       "  <tbody>\n",
       "    <tr>\n",
       "      <th>0</th>\n",
       "      <td>24852</td>\n",
       "      <td>2837</td>\n",
       "    </tr>\n",
       "    <tr>\n",
       "      <th>1</th>\n",
       "      <td>13176</td>\n",
       "      <td>2247</td>\n",
       "    </tr>\n",
       "    <tr>\n",
       "      <th>2</th>\n",
       "      <td>21137</td>\n",
       "      <td>1469</td>\n",
       "    </tr>\n",
       "    <tr>\n",
       "      <th>3</th>\n",
       "      <td>21903</td>\n",
       "      <td>1404</td>\n",
       "    </tr>\n",
       "    <tr>\n",
       "      <th>4</th>\n",
       "      <td>47209</td>\n",
       "      <td>1254</td>\n",
       "    </tr>\n",
       "  </tbody>\n",
       "</table>\n",
       "</div>"
      ],
      "text/plain": [
       "   product_id  sales\n",
       "0       24852   2837\n",
       "1       13176   2247\n",
       "2       21137   1469\n",
       "3       21903   1404\n",
       "4       47209   1254"
      ]
     },
     "metadata": {},
     "output_type": "display_data"
    },
    {
     "data": {
      "text/plain": [
       "(None, (18, 2))"
      ]
     },
     "execution_count": 8,
     "metadata": {},
     "output_type": "execute_result"
    }
   ],
   "source": [
    "# convert dict into pandas series and sort descending\n",
    "top_single_counts = pd.Series(single_counts).sort_values(ascending=False) \\\n",
    "                                    .reset_index().rename({'index':'product_id',0:'sales'},axis=1)\n",
    "\n",
    "# keep only items sold above the threshold\n",
    "top_single_counts = top_single_counts[top_single_counts['sales']>=single_threshold]\n",
    "\n",
    "display(top_single_counts.head()), top_single_counts.shape"
   ]
  },
  {
   "cell_type": "code",
   "execution_count": 9,
   "id": "78439140",
   "metadata": {},
   "outputs": [],
   "source": [
    "# initialize the pair counts dictionary\n",
    "pair_counts = defaultdict(int)\n",
    "\n",
    "# loop through all orders\n",
    "for id,order in orders.items():\n",
    "    \n",
    "    # loop through items in order\n",
    "    for i in range(len(order)):\n",
    "        \n",
    "        \"\"\"\n",
    "        if the count of that item is less than the minimum threshold, then any pair containing this \n",
    "        item cannot be greater than the minimum threshold. that's why we ignore it\n",
    "        \"\"\"\n",
    "        if single_counts[order[i]] < double_threshold:\n",
    "            continue\n",
    "            \n",
    "            \n",
    "        # loop through the rest of the items which are after the current i pointer\n",
    "        for j in range(i+1,len(order)):\n",
    "            if single_counts[order[j]] < double_threshold:\n",
    "                continue\n",
    "                \n",
    "            # if both items in the pair are above the threshold, then we include this pair\n",
    "            pair_counts[tuple(sorted((order[i],order[j])))] += 1\n",
    "    \n"
   ]
  },
  {
   "cell_type": "code",
   "execution_count": 10,
   "id": "4d950a13",
   "metadata": {},
   "outputs": [
    {
     "name": "stdout",
     "output_type": "stream",
     "text": [
      "number of times product_ids (13176, 27966) were in the same order\n"
     ]
    },
    {
     "data": {
      "text/plain": [
       "244"
      ]
     },
     "execution_count": 10,
     "metadata": {},
     "output_type": "execute_result"
    }
   ],
   "source": [
    "print('number of times product_ids (13176, 27966) were in the same order')\n",
    "pair_counts[(13176, 27966)]"
   ]
  },
  {
   "cell_type": "markdown",
   "id": "635b6c4e",
   "metadata": {},
   "source": [
    "### display most commonly sold pairs of products"
   ]
  },
  {
   "cell_type": "code",
   "execution_count": 11,
   "id": "b33199e3",
   "metadata": {},
   "outputs": [
    {
     "data": {
      "text/html": [
       "<div>\n",
       "<style scoped>\n",
       "    .dataframe tbody tr th:only-of-type {\n",
       "        vertical-align: middle;\n",
       "    }\n",
       "\n",
       "    .dataframe tbody tr th {\n",
       "        vertical-align: top;\n",
       "    }\n",
       "\n",
       "    .dataframe thead th {\n",
       "        text-align: right;\n",
       "    }\n",
       "</style>\n",
       "<table border=\"1\" class=\"dataframe\">\n",
       "  <thead>\n",
       "    <tr style=\"text-align: right;\">\n",
       "      <th></th>\n",
       "      <th>item1</th>\n",
       "      <th>item2</th>\n",
       "      <th>sales</th>\n",
       "    </tr>\n",
       "  </thead>\n",
       "  <tbody>\n",
       "    <tr>\n",
       "      <th>0</th>\n",
       "      <td>13176</td>\n",
       "      <td>47209</td>\n",
       "      <td>349</td>\n",
       "    </tr>\n",
       "    <tr>\n",
       "      <th>1</th>\n",
       "      <td>21137</td>\n",
       "      <td>24852</td>\n",
       "      <td>340</td>\n",
       "    </tr>\n",
       "    <tr>\n",
       "      <th>2</th>\n",
       "      <td>13176</td>\n",
       "      <td>21137</td>\n",
       "      <td>328</td>\n",
       "    </tr>\n",
       "    <tr>\n",
       "      <th>3</th>\n",
       "      <td>21903</td>\n",
       "      <td>24852</td>\n",
       "      <td>325</td>\n",
       "    </tr>\n",
       "    <tr>\n",
       "      <th>4</th>\n",
       "      <td>24852</td>\n",
       "      <td>47766</td>\n",
       "      <td>314</td>\n",
       "    </tr>\n",
       "  </tbody>\n",
       "</table>\n",
       "</div>"
      ],
      "text/plain": [
       "   item1  item2  sales\n",
       "0  13176  47209    349\n",
       "1  21137  24852    340\n",
       "2  13176  21137    328\n",
       "3  21903  24852    325\n",
       "4  24852  47766    314"
      ]
     },
     "execution_count": 11,
     "metadata": {},
     "output_type": "execute_result"
    }
   ],
   "source": [
    "pair_sales = pd.Series(pair_counts).sort_values(ascending=False) \\\n",
    "                                    .reset_index().rename({'level_0':'item1','level_1':'item2',0:'sales'},axis=1)\n",
    "\n",
    "pair_sales.head()"
   ]
  },
  {
   "cell_type": "code",
   "execution_count": 12,
   "id": "8449e5fb",
   "metadata": {},
   "outputs": [],
   "source": [
    "# initialize the triple counts dictionary\n",
    "triple_counts = defaultdict(int)\n",
    "\n",
    "# loop through all orders\n",
    "for id,order in orders.items():\n",
    "    \n",
    "    # loop through items in order\n",
    "    for i in range(len(order)):\n",
    "        \n",
    "        \"\"\"\n",
    "        if the count of that item is less than the minimum threshold, then any triple containing this \n",
    "        item cannot be greater than the minimum threshold. that's why we ignore it\n",
    "        \"\"\"\n",
    "        if single_counts[order[i]] < triple_threshold:\n",
    "            continue\n",
    "            \n",
    "        # loop through the rest of the items which are after the current i pointer\n",
    "        for j in range(i+1,len(order)):\n",
    "            \n",
    "            \"\"\"\n",
    "            if the count of a pair of items is less than the minimum threshold, then any triple containing this \n",
    "            item cannot be greater than the minimum threshold. that's why we ignore it\n",
    "            \"\"\"\n",
    "            if pair_counts[tuple(sorted((order[i],order[j])))] < triple_threshold:\n",
    "                continue\n",
    "                \n",
    "            # loop through the rest of the items which are after the current j pointer\n",
    "            for k in range(j+1,len(order)):\n",
    "                \n",
    "                \"\"\"\n",
    "                if the count of a pair of items is less than the minimum threshold, then any triple containing this \n",
    "                item cannot be greater than the minimum threshold. that's why we ignore it\n",
    "                \"\"\"\n",
    "                if pair_counts[tuple(sorted((order[j],order[k])))] < triple_threshold:\n",
    "                    continue\n",
    "                if pair_counts[tuple(sorted((order[i],order[k])))] < triple_threshold:\n",
    "                    continue\n",
    "                    \n",
    "                # if all possible pairs of items in the triplet are above the threshold, then we include this triplet\n",
    "                triple_counts[tuple(sorted((order[i],order[j],order[k])))] += 1\n",
    "            \n",
    "            "
   ]
  },
  {
   "cell_type": "markdown",
   "id": "42db5536",
   "metadata": {},
   "source": [
    "### display most commonly sold triplets of products"
   ]
  },
  {
   "cell_type": "code",
   "execution_count": 13,
   "id": "4a231895",
   "metadata": {},
   "outputs": [
    {
     "data": {
      "text/html": [
       "<div>\n",
       "<style scoped>\n",
       "    .dataframe tbody tr th:only-of-type {\n",
       "        vertical-align: middle;\n",
       "    }\n",
       "\n",
       "    .dataframe tbody tr th {\n",
       "        vertical-align: top;\n",
       "    }\n",
       "\n",
       "    .dataframe thead th {\n",
       "        text-align: right;\n",
       "    }\n",
       "</style>\n",
       "<table border=\"1\" class=\"dataframe\">\n",
       "  <thead>\n",
       "    <tr style=\"text-align: right;\">\n",
       "      <th></th>\n",
       "      <th>item1</th>\n",
       "      <th>item2</th>\n",
       "      <th>item3</th>\n",
       "      <th>sales</th>\n",
       "    </tr>\n",
       "  </thead>\n",
       "  <tbody>\n",
       "    <tr>\n",
       "      <th>0</th>\n",
       "      <td>13176</td>\n",
       "      <td>27966</td>\n",
       "      <td>47209</td>\n",
       "      <td>77</td>\n",
       "    </tr>\n",
       "    <tr>\n",
       "      <th>1</th>\n",
       "      <td>13176</td>\n",
       "      <td>21137</td>\n",
       "      <td>47209</td>\n",
       "      <td>69</td>\n",
       "    </tr>\n",
       "    <tr>\n",
       "      <th>2</th>\n",
       "      <td>21137</td>\n",
       "      <td>21903</td>\n",
       "      <td>24852</td>\n",
       "      <td>60</td>\n",
       "    </tr>\n",
       "    <tr>\n",
       "      <th>3</th>\n",
       "      <td>13176</td>\n",
       "      <td>21137</td>\n",
       "      <td>21903</td>\n",
       "      <td>59</td>\n",
       "    </tr>\n",
       "    <tr>\n",
       "      <th>4</th>\n",
       "      <td>13176</td>\n",
       "      <td>21137</td>\n",
       "      <td>27966</td>\n",
       "      <td>58</td>\n",
       "    </tr>\n",
       "  </tbody>\n",
       "</table>\n",
       "</div>"
      ],
      "text/plain": [
       "   item1  item2  item3  sales\n",
       "0  13176  27966  47209     77\n",
       "1  13176  21137  47209     69\n",
       "2  21137  21903  24852     60\n",
       "3  13176  21137  21903     59\n",
       "4  13176  21137  27966     58"
      ]
     },
     "execution_count": 13,
     "metadata": {},
     "output_type": "execute_result"
    }
   ],
   "source": [
    "triple_sales = pd.Series(triple_counts).sort_values(ascending=False) \\\n",
    "                                    .reset_index().rename({'level_0':'item1','level_1':'item2',\n",
    "                                                           'level_2':'item3',0:'sales'},axis=1)\n",
    "\n",
    "triple_sales.head()"
   ]
  },
  {
   "cell_type": "markdown",
   "id": "19352259",
   "metadata": {},
   "source": [
    "## Lift\n",
    "for 2 items A & B, lift= p(A,B) / ( P(A)*P(B) )"
   ]
  },
  {
   "cell_type": "markdown",
   "id": "3f87ed27",
   "metadata": {},
   "source": [
    "lift is a 2 way metric, similar to correlation. this means that corr(A,B) = corr(B,A). similarly, lift(A,B) = lift(B,A)"
   ]
  },
  {
   "cell_type": "code",
   "execution_count": 14,
   "id": "ac4d18c7",
   "metadata": {},
   "outputs": [],
   "source": [
    "num_orders = len(orders)"
   ]
  },
  {
   "cell_type": "code",
   "execution_count": 15,
   "id": "a3432a8d",
   "metadata": {},
   "outputs": [],
   "source": [
    "# calculate lift for all item pairs\n",
    "pair_lifts = defaultdict(int)\n",
    "for pair,count in pair_counts.items():\n",
    "    pair_lifts[pair] = count / ( single_counts[pair[0]]*single_counts[pair[1]] ) * num_orders"
   ]
  },
  {
   "cell_type": "code",
   "execution_count": 16,
   "id": "fd6a83f2",
   "metadata": {},
   "outputs": [
    {
     "data": {
      "text/html": [
       "<div>\n",
       "<style scoped>\n",
       "    .dataframe tbody tr th:only-of-type {\n",
       "        vertical-align: middle;\n",
       "    }\n",
       "\n",
       "    .dataframe tbody tr th {\n",
       "        vertical-align: top;\n",
       "    }\n",
       "\n",
       "    .dataframe thead th {\n",
       "        text-align: right;\n",
       "    }\n",
       "</style>\n",
       "<table border=\"1\" class=\"dataframe\">\n",
       "  <thead>\n",
       "    <tr style=\"text-align: right;\">\n",
       "      <th></th>\n",
       "      <th>item1</th>\n",
       "      <th>item2</th>\n",
       "      <th>lift</th>\n",
       "    </tr>\n",
       "  </thead>\n",
       "  <tbody>\n",
       "    <tr>\n",
       "      <th>0</th>\n",
       "      <td>35221</td>\n",
       "      <td>44632</td>\n",
       "      <td>11.759346</td>\n",
       "    </tr>\n",
       "    <tr>\n",
       "      <th>1</th>\n",
       "      <td>20114</td>\n",
       "      <td>28842</td>\n",
       "      <td>10.470597</td>\n",
       "    </tr>\n",
       "    <tr>\n",
       "      <th>2</th>\n",
       "      <td>15290</td>\n",
       "      <td>24184</td>\n",
       "      <td>7.915901</td>\n",
       "    </tr>\n",
       "    <tr>\n",
       "      <th>3</th>\n",
       "      <td>28842</td>\n",
       "      <td>44142</td>\n",
       "      <td>7.292571</td>\n",
       "    </tr>\n",
       "    <tr>\n",
       "      <th>4</th>\n",
       "      <td>9076</td>\n",
       "      <td>43352</td>\n",
       "      <td>7.258404</td>\n",
       "    </tr>\n",
       "  </tbody>\n",
       "</table>\n",
       "</div>"
      ],
      "text/plain": [
       "   item1  item2       lift\n",
       "0  35221  44632  11.759346\n",
       "1  20114  28842  10.470597\n",
       "2  15290  24184   7.915901\n",
       "3  28842  44142   7.292571\n",
       "4   9076  43352   7.258404"
      ]
     },
     "execution_count": 16,
     "metadata": {},
     "output_type": "execute_result"
    }
   ],
   "source": [
    "# convert dict into pandas series and sort descending\n",
    "lifts = pd.Series(pair_lifts).sort_values(ascending=False) \\\n",
    "                                    .reset_index().rename({'level_0':'item1','level_1':'item2',\n",
    "                                                           0:'lift'},axis=1)\n",
    "\n",
    "lifts.head()"
   ]
  },
  {
   "cell_type": "markdown",
   "id": "335e49da",
   "metadata": {},
   "source": [
    "## Confidence\n",
    "for 2 items A & B, confidence(A -> B) = P(A,B) / P(A)"
   ]
  },
  {
   "cell_type": "markdown",
   "id": "a25a6a12",
   "metadata": {},
   "source": [
    "confidence is a 1 way metric. confidence(A->B) != confidence(B->A)"
   ]
  },
  {
   "cell_type": "code",
   "execution_count": 23,
   "id": "7d6cd883",
   "metadata": {},
   "outputs": [],
   "source": [
    "pair_confidence = defaultdict(int)\n",
    "\n",
    "# loop through each item pair\n",
    "for idx, (pair,count) in enumerate(pair_counts.items()):\n",
    "\n",
    "    # calculate confidence(item1,item2)\n",
    "    pair_confidence[(pair[0],pair[1])] = count / ( single_counts[pair[0]] )\n",
    "    \n",
    "    # calculate confidence(item2,item1)\n",
    "    pair_confidence[(pair[1],pair[0])] = count / ( single_counts[pair[1]] )"
   ]
  },
  {
   "cell_type": "code",
   "execution_count": 24,
   "id": "f1e34ac1",
   "metadata": {},
   "outputs": [
    {
     "data": {
      "text/html": [
       "<div>\n",
       "<style scoped>\n",
       "    .dataframe tbody tr th:only-of-type {\n",
       "        vertical-align: middle;\n",
       "    }\n",
       "\n",
       "    .dataframe tbody tr th {\n",
       "        vertical-align: top;\n",
       "    }\n",
       "\n",
       "    .dataframe thead th {\n",
       "        text-align: right;\n",
       "    }\n",
       "</style>\n",
       "<table border=\"1\" class=\"dataframe\">\n",
       "  <thead>\n",
       "    <tr style=\"text-align: right;\">\n",
       "      <th></th>\n",
       "      <th>item1</th>\n",
       "      <th>item2</th>\n",
       "      <th>confidence</th>\n",
       "    </tr>\n",
       "  </thead>\n",
       "  <tbody>\n",
       "    <tr>\n",
       "      <th>0</th>\n",
       "      <td>41787</td>\n",
       "      <td>24852</td>\n",
       "      <td>0.379310</td>\n",
       "    </tr>\n",
       "    <tr>\n",
       "      <th>1</th>\n",
       "      <td>28204</td>\n",
       "      <td>24852</td>\n",
       "      <td>0.374280</td>\n",
       "    </tr>\n",
       "    <tr>\n",
       "      <th>2</th>\n",
       "      <td>45066</td>\n",
       "      <td>24852</td>\n",
       "      <td>0.356415</td>\n",
       "    </tr>\n",
       "    <tr>\n",
       "      <th>3</th>\n",
       "      <td>8174</td>\n",
       "      <td>13176</td>\n",
       "      <td>0.355649</td>\n",
       "    </tr>\n",
       "    <tr>\n",
       "      <th>4</th>\n",
       "      <td>49683</td>\n",
       "      <td>24852</td>\n",
       "      <td>0.350174</td>\n",
       "    </tr>\n",
       "  </tbody>\n",
       "</table>\n",
       "</div>"
      ],
      "text/plain": [
       "   item1  item2  confidence\n",
       "0  41787  24852    0.379310\n",
       "1  28204  24852    0.374280\n",
       "2  45066  24852    0.356415\n",
       "3   8174  13176    0.355649\n",
       "4  49683  24852    0.350174"
      ]
     },
     "execution_count": 24,
     "metadata": {},
     "output_type": "execute_result"
    }
   ],
   "source": [
    "# convert dict into pandas series and sort descending\n",
    "confidence = pd.Series(pair_confidence).sort_values(ascending=False) \\\n",
    "                                    .reset_index().rename({'level_0':'item1','level_1':'item2',\n",
    "                                                           0:'confidence'},axis=1)\n",
    "\n",
    "confidence.head()"
   ]
  },
  {
   "cell_type": "code",
   "execution_count": null,
   "id": "7c60ca58",
   "metadata": {},
   "outputs": [],
   "source": []
  }
 ],
 "metadata": {
  "kernelspec": {
   "display_name": "Python 3",
   "language": "python",
   "name": "python3"
  },
  "language_info": {
   "codemirror_mode": {
    "name": "ipython",
    "version": 3
   },
   "file_extension": ".py",
   "mimetype": "text/x-python",
   "name": "python",
   "nbconvert_exporter": "python",
   "pygments_lexer": "ipython3",
   "version": "3.9.6"
  }
 },
 "nbformat": 4,
 "nbformat_minor": 5
}
